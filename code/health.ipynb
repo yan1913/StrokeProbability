{
 "cells": [
  {
   "cell_type": "markdown",
   "metadata": {},
   "source": [
    "Student ID：9947609\n",
    "\n",
    "According to the World Health Organization Data, stroke accounts for 11% of global deaths each year.\n",
    "The project uses machine learning to predict whether a patient is likely to have a stroke based on known characteristics such as gender, age, and smoking status. Each row in the data provides relevant information about the patient."
   ]
  },
  {
   "cell_type": "markdown",
   "metadata": {},
   "source": [
    "### 1. Import library and read data"
   ]
  },
  {
   "cell_type": "code",
   "execution_count": 179,
   "metadata": {},
   "outputs": [],
   "source": [
    "import pandas as pd\n",
    "import numpy as np\n",
    "import matplotlib.pyplot as plt \n",
    "\n"
   ]
  },
  {
   "cell_type": "code",
   "execution_count": 180,
   "metadata": {},
   "outputs": [
    {
     "data": {
      "text/html": [
       "<div>\n",
       "<style scoped>\n",
       "    .dataframe tbody tr th:only-of-type {\n",
       "        vertical-align: middle;\n",
       "    }\n",
       "\n",
       "    .dataframe tbody tr th {\n",
       "        vertical-align: top;\n",
       "    }\n",
       "\n",
       "    .dataframe thead th {\n",
       "        text-align: right;\n",
       "    }\n",
       "</style>\n",
       "<table border=\"1\" class=\"dataframe\">\n",
       "  <thead>\n",
       "    <tr style=\"text-align: right;\">\n",
       "      <th></th>\n",
       "      <th>id</th>\n",
       "      <th>gender</th>\n",
       "      <th>age</th>\n",
       "      <th>hypertension</th>\n",
       "      <th>heart_disease</th>\n",
       "      <th>ever_married</th>\n",
       "      <th>work_type</th>\n",
       "      <th>Residence_type</th>\n",
       "      <th>avg_glucose_level</th>\n",
       "      <th>bmi</th>\n",
       "      <th>smoking_status</th>\n",
       "      <th>stroke</th>\n",
       "    </tr>\n",
       "  </thead>\n",
       "  <tbody>\n",
       "    <tr>\n",
       "      <th>0</th>\n",
       "      <td>9046</td>\n",
       "      <td>Male</td>\n",
       "      <td>67.0</td>\n",
       "      <td>0</td>\n",
       "      <td>1</td>\n",
       "      <td>Yes</td>\n",
       "      <td>Private</td>\n",
       "      <td>Urban</td>\n",
       "      <td>228.69</td>\n",
       "      <td>36.6</td>\n",
       "      <td>formerly smoked</td>\n",
       "      <td>1</td>\n",
       "    </tr>\n",
       "    <tr>\n",
       "      <th>1</th>\n",
       "      <td>51676</td>\n",
       "      <td>Female</td>\n",
       "      <td>61.0</td>\n",
       "      <td>0</td>\n",
       "      <td>0</td>\n",
       "      <td>Yes</td>\n",
       "      <td>Self-employed</td>\n",
       "      <td>Rural</td>\n",
       "      <td>202.21</td>\n",
       "      <td>NaN</td>\n",
       "      <td>never smoked</td>\n",
       "      <td>1</td>\n",
       "    </tr>\n",
       "    <tr>\n",
       "      <th>2</th>\n",
       "      <td>31112</td>\n",
       "      <td>Male</td>\n",
       "      <td>80.0</td>\n",
       "      <td>0</td>\n",
       "      <td>1</td>\n",
       "      <td>Yes</td>\n",
       "      <td>Private</td>\n",
       "      <td>Rural</td>\n",
       "      <td>105.92</td>\n",
       "      <td>32.5</td>\n",
       "      <td>never smoked</td>\n",
       "      <td>1</td>\n",
       "    </tr>\n",
       "    <tr>\n",
       "      <th>3</th>\n",
       "      <td>60182</td>\n",
       "      <td>Female</td>\n",
       "      <td>49.0</td>\n",
       "      <td>0</td>\n",
       "      <td>0</td>\n",
       "      <td>Yes</td>\n",
       "      <td>Private</td>\n",
       "      <td>Urban</td>\n",
       "      <td>171.23</td>\n",
       "      <td>34.4</td>\n",
       "      <td>smokes</td>\n",
       "      <td>1</td>\n",
       "    </tr>\n",
       "    <tr>\n",
       "      <th>4</th>\n",
       "      <td>1665</td>\n",
       "      <td>Female</td>\n",
       "      <td>79.0</td>\n",
       "      <td>1</td>\n",
       "      <td>0</td>\n",
       "      <td>Yes</td>\n",
       "      <td>Self-employed</td>\n",
       "      <td>Rural</td>\n",
       "      <td>174.12</td>\n",
       "      <td>24.0</td>\n",
       "      <td>never smoked</td>\n",
       "      <td>1</td>\n",
       "    </tr>\n",
       "  </tbody>\n",
       "</table>\n",
       "</div>"
      ],
      "text/plain": [
       "      id  gender   age  hypertension  heart_disease ever_married  \\\n",
       "0   9046    Male  67.0             0              1          Yes   \n",
       "1  51676  Female  61.0             0              0          Yes   \n",
       "2  31112    Male  80.0             0              1          Yes   \n",
       "3  60182  Female  49.0             0              0          Yes   \n",
       "4   1665  Female  79.0             1              0          Yes   \n",
       "\n",
       "       work_type Residence_type  avg_glucose_level   bmi   smoking_status  \\\n",
       "0        Private          Urban             228.69  36.6  formerly smoked   \n",
       "1  Self-employed          Rural             202.21   NaN     never smoked   \n",
       "2        Private          Rural             105.92  32.5     never smoked   \n",
       "3        Private          Urban             171.23  34.4           smokes   \n",
       "4  Self-employed          Rural             174.12  24.0     never smoked   \n",
       "\n",
       "   stroke  \n",
       "0       1  \n",
       "1       1  \n",
       "2       1  \n",
       "3       1  \n",
       "4       1  "
      ]
     },
     "execution_count": 180,
     "metadata": {},
     "output_type": "execute_result"
    }
   ],
   "source": [
    "# https://www.kaggle.com/fedesoriano/stroke-prediction-dataset\n",
    "df=pd.read_csv(\"../dataset/healthcare-dataset-stroke-data.csv\")\n",
    "df.head()"
   ]
  },
  {
   "cell_type": "code",
   "execution_count": 181,
   "metadata": {},
   "outputs": [
    {
     "name": "stdout",
     "output_type": "stream",
     "text": [
      "<class 'pandas.core.frame.DataFrame'>\n",
      "RangeIndex: 5110 entries, 0 to 5109\n",
      "Data columns (total 12 columns):\n",
      " #   Column             Non-Null Count  Dtype  \n",
      "---  ------             --------------  -----  \n",
      " 0   id                 5110 non-null   int64  \n",
      " 1   gender             5110 non-null   object \n",
      " 2   age                5110 non-null   float64\n",
      " 3   hypertension       5110 non-null   int64  \n",
      " 4   heart_disease      5110 non-null   int64  \n",
      " 5   ever_married       5110 non-null   object \n",
      " 6   work_type          5110 non-null   object \n",
      " 7   Residence_type     5110 non-null   object \n",
      " 8   avg_glucose_level  5110 non-null   float64\n",
      " 9   bmi                4909 non-null   float64\n",
      " 10  smoking_status     5110 non-null   object \n",
      " 11  stroke             5110 non-null   int64  \n",
      "dtypes: float64(3), int64(4), object(5)\n",
      "memory usage: 479.2+ KB\n"
     ]
    }
   ],
   "source": [
    "df.info()\n"
   ]
  },
  {
   "cell_type": "markdown",
   "metadata": {},
   "source": [
    "### Missing value processing"
   ]
  },
  {
   "cell_type": "code",
   "execution_count": 182,
   "metadata": {},
   "outputs": [
    {
     "data": {
      "text/plain": [
       "id                     0\n",
       "gender                 0\n",
       "age                    0\n",
       "hypertension           0\n",
       "heart_disease          0\n",
       "ever_married           0\n",
       "work_type              0\n",
       "Residence_type         0\n",
       "avg_glucose_level      0\n",
       "bmi                  201\n",
       "smoking_status         0\n",
       "stroke                 0\n",
       "dtype: int64"
      ]
     },
     "execution_count": 182,
     "metadata": {},
     "output_type": "execute_result"
    }
   ],
   "source": [
    "df.isnull().sum()\n"
   ]
  },
  {
   "cell_type": "code",
   "execution_count": 183,
   "metadata": {},
   "outputs": [
    {
     "data": {
      "image/png": "[encoded data removed]",
      "text/plain": [
       "<Figure size 864x432 with 2 Axes>"
      ]
     },
     "metadata": {
      "needs_background": "light"
     },
     "output_type": "display_data"
    }
   ],
   "source": [
    "import matplotlib.pyplot as plt \n",
    "import seaborn as sns\n",
    "plt.figure(figsize = (12,6))\n",
    "sns.heatmap(df.isnull())\n",
    "plt.show()"
   ]
  },
  {
   "cell_type": "code",
   "execution_count": 184,
   "metadata": {},
   "outputs": [],
   "source": [
    "data = df.replace(to_replace=\"?\", value=np.NaN)\n",
    "data = data.dropna()\n"
   ]
  },
  {
   "cell_type": "code",
   "execution_count": 185,
   "metadata": {},
   "outputs": [
    {
     "data": {
      "text/plain": [
       "id                   0\n",
       "gender               0\n",
       "age                  0\n",
       "hypertension         0\n",
       "heart_disease        0\n",
       "ever_married         0\n",
       "work_type            0\n",
       "Residence_type       0\n",
       "avg_glucose_level    0\n",
       "bmi                  0\n",
       "smoking_status       0\n",
       "stroke               0\n",
       "dtype: int64"
      ]
     },
     "execution_count": 185,
     "metadata": {},
     "output_type": "execute_result"
    }
   ],
   "source": [
    "data.isnull().sum()\n"
   ]
  },
  {
   "cell_type": "code",
   "execution_count": 186,
   "metadata": {},
   "outputs": [
    {
     "data": {
      "image/png": "[encoded data removed]",
      "text/plain": [
       "<Figure size 864x432 with 2 Axes>"
      ]
     },
     "metadata": {
      "needs_background": "light"
     },
     "output_type": "display_data"
    }
   ],
   "source": [
    "plt.figure(figsize = (12,6))\n",
    "sns.heatmap(data.isnull())\n",
    "plt.show()"
   ]
  },
  {
   "cell_type": "code",
   "execution_count": 187,
   "metadata": {},
   "outputs": [
    {
     "name": "stdout",
     "output_type": "stream",
     "text": [
      "<class 'pandas.core.frame.DataFrame'>\n",
      "Int64Index: 4909 entries, 0 to 5109\n",
      "Data columns (total 12 columns):\n",
      " #   Column             Non-Null Count  Dtype  \n",
      "---  ------             --------------  -----  \n",
      " 0   id                 4909 non-null   int64  \n",
      " 1   gender             4909 non-null   object \n",
      " 2   age                4909 non-null   float64\n",
      " 3   hypertension       4909 non-null   int64  \n",
      " 4   heart_disease      4909 non-null   int64  \n",
      " 5   ever_married       4909 non-null   object \n",
      " 6   work_type          4909 non-null   object \n",
      " 7   Residence_type     4909 non-null   object \n",
      " 8   avg_glucose_level  4909 non-null   float64\n",
      " 9   bmi                4909 non-null   float64\n",
      " 10  smoking_status     4909 non-null   object \n",
      " 11  stroke             4909 non-null   int64  \n",
      "dtypes: float64(3), int64(4), object(5)\n",
      "memory usage: 498.6+ KB\n"
     ]
    }
   ],
   "source": [
    "data.info()"
   ]
  },
  {
   "cell_type": "markdown",
   "metadata": {},
   "source": [
    "### Characteristic Engineering"
   ]
  },
  {
   "cell_type": "code",
   "execution_count": 188,
   "metadata": {},
   "outputs": [
    {
     "name": "stdout",
     "output_type": "stream",
     "text": [
      "<class 'pandas.core.frame.DataFrame'>\n",
      "RangeIndex: 5110 entries, 0 to 5109\n",
      "Data columns (total 12 columns):\n",
      " #   Column             Non-Null Count  Dtype  \n",
      "---  ------             --------------  -----  \n",
      " 0   id                 5110 non-null   int64  \n",
      " 1   gender             5110 non-null   object \n",
      " 2   age                5110 non-null   float64\n",
      " 3   hypertension       5110 non-null   int64  \n",
      " 4   heart_disease      5110 non-null   int64  \n",
      " 5   ever_married       5110 non-null   object \n",
      " 6   work_type          5110 non-null   object \n",
      " 7   Residence_type     5110 non-null   object \n",
      " 8   avg_glucose_level  5110 non-null   float64\n",
      " 9   bmi                4909 non-null   float64\n",
      " 10  smoking_status     5110 non-null   object \n",
      " 11  stroke             5110 non-null   int64  \n",
      "dtypes: float64(3), int64(4), object(5)\n",
      "memory usage: 479.2+ KB\n"
     ]
    }
   ],
   "source": [
    "df.info()\n"
   ]
  },
  {
   "cell_type": "code",
   "execution_count": 189,
   "metadata": {},
   "outputs": [],
   "source": [
    "data=data.drop('id', axis=1)\n"
   ]
  },
  {
   "cell_type": "markdown",
   "metadata": {},
   "source": [
    "### Data type conversion"
   ]
  },
  {
   "cell_type": "code",
   "execution_count": 190,
   "metadata": {},
   "outputs": [
    {
     "name": "stdout",
     "output_type": "stream",
     "text": [
      "<class 'pandas.core.frame.DataFrame'>\n",
      "RangeIndex: 5110 entries, 0 to 5109\n",
      "Data columns (total 12 columns):\n",
      " #   Column             Non-Null Count  Dtype  \n",
      "---  ------             --------------  -----  \n",
      " 0   id                 5110 non-null   int64  \n",
      " 1   gender             5110 non-null   object \n",
      " 2   age                5110 non-null   float64\n",
      " 3   hypertension       5110 non-null   int64  \n",
      " 4   heart_disease      5110 non-null   int64  \n",
      " 5   ever_married       5110 non-null   object \n",
      " 6   work_type          5110 non-null   object \n",
      " 7   Residence_type     5110 non-null   object \n",
      " 8   avg_glucose_level  5110 non-null   float64\n",
      " 9   bmi                4909 non-null   float64\n",
      " 10  smoking_status     5110 non-null   object \n",
      " 11  stroke             5110 non-null   int64  \n",
      "dtypes: float64(3), int64(4), object(5)\n",
      "memory usage: 479.2+ KB\n"
     ]
    }
   ],
   "source": [
    "df.info()"
   ]
  },
  {
   "cell_type": "code",
   "execution_count": 191,
   "metadata": {},
   "outputs": [],
   "source": [
    "stringFeature= ['gender','ever_married','work_type','Residence_type','smoking_status']\n",
    "\n",
    "floatFeature=['age','avg_glucose_level', 'bmi']"
   ]
  },
  {
   "cell_type": "code",
   "execution_count": 192,
   "metadata": {},
   "outputs": [],
   "source": [
    "from sklearn.preprocessing import LabelEncoder\n",
    "\n",
    "for i in stringFeature:\n",
    "    temp = LabelEncoder()\n",
    "    data[i] = temp.fit_transform(data[i])\n",
    "    "
   ]
  },
  {
   "cell_type": "code",
   "execution_count": 193,
   "metadata": {},
   "outputs": [
    {
     "data": {
      "text/html": [
       "<div>\n",
       "<style scoped>\n",
       "    .dataframe tbody tr th:only-of-type {\n",
       "        vertical-align: middle;\n",
       "    }\n",
       "\n",
       "    .dataframe tbody tr th {\n",
       "        vertical-align: top;\n",
       "    }\n",
       "\n",
       "    .dataframe thead th {\n",
       "        text-align: right;\n",
       "    }\n",
       "</style>\n",
       "<table border=\"1\" class=\"dataframe\">\n",
       "  <thead>\n",
       "    <tr style=\"text-align: right;\">\n",
       "      <th></th>\n",
       "      <th>gender</th>\n",
       "      <th>age</th>\n",
       "      <th>hypertension</th>\n",
       "      <th>heart_disease</th>\n",
       "      <th>ever_married</th>\n",
       "      <th>work_type</th>\n",
       "      <th>Residence_type</th>\n",
       "      <th>avg_glucose_level</th>\n",
       "      <th>bmi</th>\n",
       "      <th>smoking_status</th>\n",
       "      <th>stroke</th>\n",
       "    </tr>\n",
       "  </thead>\n",
       "  <tbody>\n",
       "    <tr>\n",
       "      <th>0</th>\n",
       "      <td>1</td>\n",
       "      <td>67.0</td>\n",
       "      <td>0</td>\n",
       "      <td>1</td>\n",
       "      <td>1</td>\n",
       "      <td>2</td>\n",
       "      <td>1</td>\n",
       "      <td>228.69</td>\n",
       "      <td>36.6</td>\n",
       "      <td>1</td>\n",
       "      <td>1</td>\n",
       "    </tr>\n",
       "    <tr>\n",
       "      <th>2</th>\n",
       "      <td>1</td>\n",
       "      <td>80.0</td>\n",
       "      <td>0</td>\n",
       "      <td>1</td>\n",
       "      <td>1</td>\n",
       "      <td>2</td>\n",
       "      <td>0</td>\n",
       "      <td>105.92</td>\n",
       "      <td>32.5</td>\n",
       "      <td>2</td>\n",
       "      <td>1</td>\n",
       "    </tr>\n",
       "    <tr>\n",
       "      <th>3</th>\n",
       "      <td>0</td>\n",
       "      <td>49.0</td>\n",
       "      <td>0</td>\n",
       "      <td>0</td>\n",
       "      <td>1</td>\n",
       "      <td>2</td>\n",
       "      <td>1</td>\n",
       "      <td>171.23</td>\n",
       "      <td>34.4</td>\n",
       "      <td>3</td>\n",
       "      <td>1</td>\n",
       "    </tr>\n",
       "    <tr>\n",
       "      <th>4</th>\n",
       "      <td>0</td>\n",
       "      <td>79.0</td>\n",
       "      <td>1</td>\n",
       "      <td>0</td>\n",
       "      <td>1</td>\n",
       "      <td>3</td>\n",
       "      <td>0</td>\n",
       "      <td>174.12</td>\n",
       "      <td>24.0</td>\n",
       "      <td>2</td>\n",
       "      <td>1</td>\n",
       "    </tr>\n",
       "    <tr>\n",
       "      <th>5</th>\n",
       "      <td>1</td>\n",
       "      <td>81.0</td>\n",
       "      <td>0</td>\n",
       "      <td>0</td>\n",
       "      <td>1</td>\n",
       "      <td>2</td>\n",
       "      <td>1</td>\n",
       "      <td>186.21</td>\n",
       "      <td>29.0</td>\n",
       "      <td>1</td>\n",
       "      <td>1</td>\n",
       "    </tr>\n",
       "  </tbody>\n",
       "</table>\n",
       "</div>"
      ],
      "text/plain": [
       "   gender   age  hypertension  heart_disease  ever_married  work_type  \\\n",
       "0       1  67.0             0              1             1          2   \n",
       "2       1  80.0             0              1             1          2   \n",
       "3       0  49.0             0              0             1          2   \n",
       "4       0  79.0             1              0             1          3   \n",
       "5       1  81.0             0              0             1          2   \n",
       "\n",
       "   Residence_type  avg_glucose_level   bmi  smoking_status  stroke  \n",
       "0               1             228.69  36.6               1       1  \n",
       "2               0             105.92  32.5               2       1  \n",
       "3               1             171.23  34.4               3       1  \n",
       "4               0             174.12  24.0               2       1  \n",
       "5               1             186.21  29.0               1       1  "
      ]
     },
     "execution_count": 193,
     "metadata": {},
     "output_type": "execute_result"
    }
   ],
   "source": [
    "data.head(5)"
   ]
  },
  {
   "cell_type": "code",
   "execution_count": 194,
   "metadata": {},
   "outputs": [
    {
     "data": {
      "image/png": "[encoded data removed]",
      "text/plain": [
       "<Figure size 1440x1080 with 12 Axes>"
      ]
     },
     "metadata": {
      "needs_background": "light"
     },
     "output_type": "display_data"
    }
   ],
   "source": [
    "data.hist(figsize=(20,15))\n",
    "plt.show()"
   ]
  },
  {
   "cell_type": "code",
   "execution_count": 195,
   "metadata": {},
   "outputs": [
    {
     "data": {
      "text/html": [
       "<div>\n",
       "<style scoped>\n",
       "    .dataframe tbody tr th:only-of-type {\n",
       "        vertical-align: middle;\n",
       "    }\n",
       "\n",
       "    .dataframe tbody tr th {\n",
       "        vertical-align: top;\n",
       "    }\n",
       "\n",
       "    .dataframe thead th {\n",
       "        text-align: right;\n",
       "    }\n",
       "</style>\n",
       "<table border=\"1\" class=\"dataframe\">\n",
       "  <thead>\n",
       "    <tr style=\"text-align: right;\">\n",
       "      <th></th>\n",
       "      <th>gender</th>\n",
       "      <th>age</th>\n",
       "      <th>hypertension</th>\n",
       "      <th>heart_disease</th>\n",
       "      <th>ever_married</th>\n",
       "      <th>work_type</th>\n",
       "      <th>Residence_type</th>\n",
       "      <th>avg_glucose_level</th>\n",
       "      <th>bmi</th>\n",
       "      <th>smoking_status</th>\n",
       "      <th>stroke</th>\n",
       "    </tr>\n",
       "  </thead>\n",
       "  <tbody>\n",
       "    <tr>\n",
       "      <th>0</th>\n",
       "      <td>1</td>\n",
       "      <td>67.0</td>\n",
       "      <td>0</td>\n",
       "      <td>1</td>\n",
       "      <td>1</td>\n",
       "      <td>2</td>\n",
       "      <td>1</td>\n",
       "      <td>228.69</td>\n",
       "      <td>36.6</td>\n",
       "      <td>1</td>\n",
       "      <td>1</td>\n",
       "    </tr>\n",
       "    <tr>\n",
       "      <th>2</th>\n",
       "      <td>1</td>\n",
       "      <td>80.0</td>\n",
       "      <td>0</td>\n",
       "      <td>1</td>\n",
       "      <td>1</td>\n",
       "      <td>2</td>\n",
       "      <td>0</td>\n",
       "      <td>105.92</td>\n",
       "      <td>32.5</td>\n",
       "      <td>2</td>\n",
       "      <td>1</td>\n",
       "    </tr>\n",
       "    <tr>\n",
       "      <th>3</th>\n",
       "      <td>0</td>\n",
       "      <td>49.0</td>\n",
       "      <td>0</td>\n",
       "      <td>0</td>\n",
       "      <td>1</td>\n",
       "      <td>2</td>\n",
       "      <td>1</td>\n",
       "      <td>171.23</td>\n",
       "      <td>34.4</td>\n",
       "      <td>3</td>\n",
       "      <td>1</td>\n",
       "    </tr>\n",
       "    <tr>\n",
       "      <th>4</th>\n",
       "      <td>0</td>\n",
       "      <td>79.0</td>\n",
       "      <td>1</td>\n",
       "      <td>0</td>\n",
       "      <td>1</td>\n",
       "      <td>3</td>\n",
       "      <td>0</td>\n",
       "      <td>174.12</td>\n",
       "      <td>24.0</td>\n",
       "      <td>2</td>\n",
       "      <td>1</td>\n",
       "    </tr>\n",
       "    <tr>\n",
       "      <th>5</th>\n",
       "      <td>1</td>\n",
       "      <td>81.0</td>\n",
       "      <td>0</td>\n",
       "      <td>0</td>\n",
       "      <td>1</td>\n",
       "      <td>2</td>\n",
       "      <td>1</td>\n",
       "      <td>186.21</td>\n",
       "      <td>29.0</td>\n",
       "      <td>1</td>\n",
       "      <td>1</td>\n",
       "    </tr>\n",
       "  </tbody>\n",
       "</table>\n",
       "</div>"
      ],
      "text/plain": [
       "   gender   age  hypertension  heart_disease  ever_married  work_type  \\\n",
       "0       1  67.0             0              1             1          2   \n",
       "2       1  80.0             0              1             1          2   \n",
       "3       0  49.0             0              0             1          2   \n",
       "4       0  79.0             1              0             1          3   \n",
       "5       1  81.0             0              0             1          2   \n",
       "\n",
       "   Residence_type  avg_glucose_level   bmi  smoking_status  stroke  \n",
       "0               1             228.69  36.6               1       1  \n",
       "2               0             105.92  32.5               2       1  \n",
       "3               1             171.23  34.4               3       1  \n",
       "4               0             174.12  24.0               2       1  \n",
       "5               1             186.21  29.0               1       1  "
      ]
     },
     "execution_count": 195,
     "metadata": {},
     "output_type": "execute_result"
    }
   ],
   "source": [
    "data.head()"
   ]
  },
  {
   "cell_type": "code",
   "execution_count": 196,
   "metadata": {},
   "outputs": [
    {
     "data": {
      "text/plain": [
       "<AxesSubplot:>"
      ]
     },
     "execution_count": 196,
     "metadata": {},
     "output_type": "execute_result"
    },
    {
     "data": {
      "image/png": "[encoded data removed]",
      "text/plain": [
       "<Figure size 720x720 with 2 Axes>"
      ]
     },
     "metadata": {
      "needs_background": "light"
     },
     "output_type": "display_data"
    }
   ],
   "source": [
    "correlation_maxtrix=data.corr().round(2)\n",
    "import matplotlib.pyplot as plt\n",
    "import seaborn as sns\n",
    "plt.figure(figsize=(10,10))\n",
    "sns.heatmap(data=correlation_maxtrix,annot=True)"
   ]
  },
  {
   "cell_type": "markdown",
   "metadata": {},
   "source": [
    "### Distinguish data"
   ]
  },
  {
   "cell_type": "code",
   "execution_count": 197,
   "metadata": {},
   "outputs": [
    {
     "name": "stdout",
     "output_type": "stream",
     "text": [
      "size_val= 0.1 : 0.9511201629327902\n",
      "size_val= 0.2 : 0.9562118126272913\n",
      "size_val= 0.3 : 0.9633401221995926\n",
      "size_val= 0.4 : 0.9582484725050916\n",
      "size_val= 0.5 : 0.960081466395112\n",
      "=====================\n",
      "best_size: 0.3\n"
     ]
    }
   ],
   "source": [
    "from sklearn.model_selection import train_test_split, cross_val_score\n",
    "from sklearn.linear_model import LogisticRegression\n",
    "from sklearn.metrics import accuracy_score\n",
    "\n",
    "max=0\n",
    "size_val=[0.1,0.2,0.3,0.4,0.5]\n",
    "for i in size_val:\n",
    "    from sklearn.model_selection import train_test_split, cross_val_score\n",
    "    X_train,X_test,y_train,y_test = train_test_split(X,y,test_size=i,random_state=0)\n",
    "    X_train.shape,y_train.shape,X_test.shape,y_test.shape\n",
    "    \n",
    "   \n",
    "    model_logisticRegression=LogisticRegression(max_iter=500)\n",
    "    model_logisticRegression.fit(X_train,y_train)\n",
    "\n",
    "    y_test_pred=model_logisticRegression.predict(X_test)\n",
    "    y_train_pred=model_logisticRegression.predict(X_train)\n",
    "\n",
    "    accuracy_logisticRegression=accuracy_score(y_test,y_test_pred)\n",
    "    print(\"size_val=\",i,\":\",accuracy_logisticRegression)\n",
    "    if accuracy_logisticRegression>max:\n",
    "        max=accuracy_logisticRegression\n",
    "        best_size=i\n",
    "print(\"=====================\")\n",
    "print(\"best_size:\",best_size)\n",
    "    \n"
   ]
  },
  {
   "cell_type": "markdown",
   "metadata": {},
   "source": [
    "### Variable storage"
   ]
  },
  {
   "cell_type": "code",
   "execution_count": 198,
   "metadata": {},
   "outputs": [],
   "source": [
    "model_name=[]\n",
    "accuracy_val=[]\n",
    "cross_val=[]"
   ]
  },
  {
   "cell_type": "markdown",
   "metadata": {},
   "source": [
    "### Logistic regression model"
   ]
  },
  {
   "cell_type": "code",
   "execution_count": 199,
   "metadata": {},
   "outputs": [
    {
     "data": {
      "text/plain": [
       "0.960081466395112"
      ]
     },
     "execution_count": 199,
     "metadata": {},
     "output_type": "execute_result"
    }
   ],
   "source": [
    "from sklearn.linear_model import LogisticRegression\n",
    "from sklearn.metrics import accuracy_score\n",
    "model_logisticRegression=LogisticRegression(max_iter=500)\n",
    "model_logisticRegression.fit(X_train,y_train)\n",
    "\n",
    "y_test_pred=model_logisticRegression.predict(X_test)\n",
    "y_train_pred=model_logisticRegression.predict(X_train)\n",
    "\n",
    "accuracy_logisticRegression=accuracy_score(y_test,y_test_pred)\n",
    "accuracy_logisticRegression\n",
    "\n",
    "# model_name.append(\"model_logisticRegression\")\n",
    "# accuracy_val.append(accuracy_logisticRegression)"
   ]
  },
  {
   "cell_type": "code",
   "execution_count": 200,
   "metadata": {},
   "outputs": [
    {
     "data": {
      "text/plain": [
       "<AxesSubplot:>"
      ]
     },
     "execution_count": 200,
     "metadata": {},
     "output_type": "execute_result"
    },
    {
     "data": {
      "image/png": "[encoded data removed]",
      "text/plain": [
       "<Figure size 432x288 with 2 Axes>"
      ]
     },
     "metadata": {
      "needs_background": "light"
     },
     "output_type": "display_data"
    }
   ],
   "source": [
    "# LogisticRegression\n",
    "from sklearn.metrics import confusion_matrix\n",
    "confusion_matrix_res=confusion_matrix(y_test,y_test_pred)\n",
    "sns.heatmap(confusion_matrix_res,annot=True,cmap=\"Blues\")"
   ]
  },
  {
   "cell_type": "code",
   "execution_count": 201,
   "metadata": {},
   "outputs": [
    {
     "name": "stdout",
     "output_type": "stream",
     "text": [
      "<class 'sklearn.linear_model._logistic.LogisticRegression'>\n",
      "              precision    recall  f1-score   support\n",
      "\n",
      "    Rejected       0.96      1.00      0.98      2356\n",
      "    Accepted       1.00      0.01      0.02        99\n",
      "\n",
      "    accuracy                           0.96      2455\n",
      "   macro avg       0.98      0.51      0.50      2455\n",
      "weighted avg       0.96      0.96      0.94      2455\n",
      "\n",
      "MSE： 0.039918533604887986\n",
      "MSE(Streat calculate)： 0.039918533604887986\n",
      "RMSE： 0.19979623020689852\n",
      "r2: -0.0314949151961037\n"
     ]
    }
   ],
   "source": [
    "from sklearn.metrics import classification_report\n",
    "target_name=[\"Rejected\",\"Accepted\"]\n",
    "report=classification_report(y_test,y_test_pred,target_names=target_name)\n",
    "print(LogisticRegression)\n",
    "print(report)\n",
    "\n",
    "from sklearn.metrics import mean_squared_error,r2_score\n",
    "print('MSE：',mean_squared_error(y_test,y_test_pred))\n",
    "print('MSE(Streat calculate)：',np.mean((y_test-y_test_pred)**2))\n",
    "print('RMSE：',np.sqrt(mean_squared_error(y_test,y_test_pred)))\n",
    "print(\"r2:\",r2_score(y_test,y_test_pred))"
   ]
  },
  {
   "cell_type": "markdown",
   "metadata": {},
   "source": [
    "### KNeighborsClassifier"
   ]
  },
  {
   "cell_type": "code",
   "execution_count": 202,
   "metadata": {},
   "outputs": [
    {
     "data": {
      "text/plain": [
       "0.9556008146639511"
      ]
     },
     "execution_count": 202,
     "metadata": {},
     "output_type": "execute_result"
    }
   ],
   "source": [
    "from sklearn.neighbors import KNeighborsClassifier\n",
    "from sklearn.metrics import accuracy_score\n",
    "model_KNeighborsClassifier=KNeighborsClassifier()\n",
    "model_KNeighborsClassifier.fit(X_train,y_train)\n",
    "\n",
    "y_test_pred=model_KNeighborsClassifier.predict(X_test)\n",
    "y_train_pred=model_logisticRegression.predict(X_train)\n",
    "\n",
    "accuracy_KNeighborsClassifier=accuracy_score(y_test,y_test_pred)\n",
    "accuracy_KNeighborsClassifier"
   ]
  },
  {
   "cell_type": "code",
   "execution_count": 203,
   "metadata": {},
   "outputs": [
    {
     "data": {
      "text/plain": [
       "<AxesSubplot:>"
      ]
     },
     "execution_count": 203,
     "metadata": {},
     "output_type": "execute_result"
    },
    {
     "data": {
      "image/png": "[encoded data removed]",
      "text/plain": [
       "<Figure size 432x288 with 2 Axes>"
      ]
     },
     "metadata": {
      "needs_background": "light"
     },
     "output_type": "display_data"
    }
   ],
   "source": [
    "# model_KNeighborsClassifier\n",
    "from sklearn.metrics import confusion_matrix\n",
    "confusion_matrix_res=confusion_matrix(y_test,y_test_pred)\n",
    "sns.heatmap(confusion_matrix_res,annot=True,cmap=\"Blues\")"
   ]
  },
  {
   "cell_type": "code",
   "execution_count": 204,
   "metadata": {},
   "outputs": [
    {
     "name": "stdout",
     "output_type": "stream",
     "text": [
      "KNeighborsClassifier\n",
      "              precision    recall  f1-score   support\n",
      "\n",
      "    Rejected       0.96      1.00      0.98      2356\n",
      "    Accepted       0.08      0.01      0.02        99\n",
      "\n",
      "    accuracy                           0.96      2455\n",
      "   macro avg       0.52      0.50      0.50      2455\n",
      "weighted avg       0.92      0.96      0.94      2455\n",
      "\n",
      "MSE： 0.04439918533604888\n",
      "MSE(Streat calculate)： 0.04439918533604888\n",
      "RMSE： 0.21071114193617974\n",
      "r2: -0.14727495669770718\n"
     ]
    }
   ],
   "source": [
    "from sklearn.metrics import classification_report\n",
    "target_name=[\"Rejected\",\"Accepted\"]\n",
    "report=classification_report(y_test,y_test_pred,target_names=target_name)\n",
    "print(\"KNeighborsClassifier\")\n",
    "print(report)\n",
    "\n",
    "from sklearn.metrics import mean_squared_error,r2_score\n",
    "print('MSE：',mean_squared_error(y_test,y_test_pred))\n",
    "print('MSE(Streat calculate)：',np.mean((y_test-y_test_pred)**2))\n",
    "print('RMSE：',np.sqrt(mean_squared_error(y_test,y_test_pred)))\n",
    "print(\"r2:\",r2_score(y_test,y_test_pred))"
   ]
  },
  {
   "cell_type": "markdown",
   "metadata": {},
   "source": [
    "### MLPClassifier"
   ]
  },
  {
   "cell_type": "code",
   "execution_count": 205,
   "metadata": {},
   "outputs": [
    {
     "data": {
      "text/plain": [
       "0.9584521384928717"
      ]
     },
     "execution_count": 205,
     "metadata": {},
     "output_type": "execute_result"
    }
   ],
   "source": [
    "from sklearn.neural_network import MLPClassifier\n",
    "from sklearn.metrics import accuracy_score\n",
    "model_MLPClassifier=MLPClassifier(random_state=0,max_iter=1200)\n",
    "model_MLPClassifier.fit(X_train,y_train)\n",
    "\n",
    "y_test_pred=model_MLPClassifier.predict(X_test)\n",
    "y_train_pred=model_MLPClassifier.predict(X_train)\n",
    "\n",
    "\n",
    "accuracy_MLPClassifier=accuracy_score(y_test,y_test_pred)\n",
    "accuracy_MLPClassifier"
   ]
  },
  {
   "cell_type": "code",
   "execution_count": 206,
   "metadata": {},
   "outputs": [
    {
     "data": {
      "text/plain": [
       "<AxesSubplot:>"
      ]
     },
     "execution_count": 206,
     "metadata": {},
     "output_type": "execute_result"
    },
    {
     "data": {
      "image/png": "[encoded data removed]",
      "text/plain": [
       "<Figure size 432x288 with 2 Axes>"
      ]
     },
     "metadata": {
      "needs_background": "light"
     },
     "output_type": "display_data"
    }
   ],
   "source": [
    "# model_MLPClassifier\n",
    "from sklearn.metrics import confusion_matrix\n",
    "confusion_matrix_res=confusion_matrix(y_test,y_test_pred)\n",
    "sns.heatmap(confusion_matrix_res,annot=True,cmap=\"Blues\")"
   ]
  },
  {
   "cell_type": "code",
   "execution_count": 207,
   "metadata": {},
   "outputs": [
    {
     "name": "stdout",
     "output_type": "stream",
     "text": [
      "MLPClassifier\n",
      "              precision    recall  f1-score   support\n",
      "\n",
      "    Rejected       0.96      1.00      0.98      2356\n",
      "    Accepted       0.00      0.00      0.00        99\n",
      "\n",
      "    accuracy                           0.96      2455\n",
      "   macro avg       0.48      0.50      0.49      2455\n",
      "weighted avg       0.92      0.96      0.94      2455\n",
      "\n",
      "MSE： 0.04154786150712831\n",
      "MSE(Streat calculate)： 0.04154786150712831\n",
      "RMSE： 0.20383292547360524\n",
      "r2: -0.073596748469414\n"
     ]
    }
   ],
   "source": [
    "from sklearn.metrics import classification_report\n",
    "target_name=[\"Rejected\",\"Accepted\"]\n",
    "report=classification_report(y_test,y_test_pred,target_names=target_name)\n",
    "print(\"MLPClassifier\")\n",
    "print(report)\n",
    "\n",
    "from sklearn.metrics import mean_squared_error,r2_score\n",
    "print('MSE：',mean_squared_error(y_test,y_test_pred))\n",
    "print('MSE(Streat calculate)：',np.mean((y_test-y_test_pred)**2))\n",
    "print('RMSE：',np.sqrt(mean_squared_error(y_test,y_test_pred)))\n",
    "print(\"r2:\",r2_score(y_test,y_test_pred))"
   ]
  },
  {
   "cell_type": "markdown",
   "metadata": {},
   "source": [
    "### Feature scaling"
   ]
  },
  {
   "cell_type": "code",
   "execution_count": 208,
   "metadata": {},
   "outputs": [],
   "source": [
    "from sklearn.preprocessing import StandardScaler\n",
    "def standardScalerFun(X_train,X_test):\n",
    "    standardScaler=StandardScaler()\n",
    "    X_train_standardScaler=standardScaler.fit_transform(X_train)\n",
    "    X_test_standardScaler=standardScaler.transform(X_test)\n",
    "    return X_train_standardScaler,X_test_standardScaler"
   ]
  },
  {
   "cell_type": "code",
   "execution_count": 209,
   "metadata": {},
   "outputs": [],
   "source": [
    "from sklearn.preprocessing import MinMaxScaler\n",
    "def minMaxScalerFun(X_train,X_test):\n",
    "    minMaxScaler=MinMaxScaler()\n",
    "    X_train_minMaxScaler=minMaxScaler.fit_transform(X_train)\n",
    "    X_test_minMaxScaler=minMaxScaler.fit_transform(X_test)\n",
    "    return X_train_minMaxScaler,X_test_minMaxScaler\n"
   ]
  },
  {
   "cell_type": "code",
   "execution_count": 210,
   "metadata": {},
   "outputs": [],
   "source": [
    "from sklearn.preprocessing import RobustScaler\n",
    "def robustScalerFun(X_train,X_test):\n",
    "    robustScaler=RobustScaler()\n",
    "    X_train_robustScaler=robustScaler.fit_transform(X_train)\n",
    "    X_test_robustScaler=robustScaler.fit_transform(X_test)\n",
    "    return X_train_robustScaler,X_test_robustScaler\n"
   ]
  },
  {
   "cell_type": "code",
   "execution_count": 211,
   "metadata": {},
   "outputs": [],
   "source": [
    "from sklearn.preprocessing import Normalizer\n",
    "def normalizerFun(X_train,X_test):\n",
    "    normalizer=Normalizer()\n",
    "    X_train_normalizer=normalizer.fit_transform(X_train)\n",
    "    X_test_normalizer=normalizer.fit_transform(X_test)\n",
    "    return X_train_normalizer,X_test_normalizer\n"
   ]
  },
  {
   "cell_type": "code",
   "execution_count": 212,
   "metadata": {},
   "outputs": [],
   "source": [
    "from sklearn.metrics import mean_squared_error,r2_score\n",
    "def fittingSituation(y_test,Y_pred):\n",
    "    print('MSE：',mean_squared_error(y_test,Y_pred))\n",
    "    print('MSE(Streat calculate)：',np.mean((y_test-Y_pred)**2))\n",
    "    print('RMSE：',np.sqrt(mean_squared_error(y_test,Y_pred)))\n",
    "    print(\"r2:\",r2_score(y_test,Y_pred))"
   ]
  },
  {
   "cell_type": "code",
   "execution_count": 213,
   "metadata": {},
   "outputs": [],
   "source": [
    "# model_logisticRegression函数\n",
    "from sklearn.linear_model import LogisticRegression\n",
    "from sklearn.metrics import accuracy_score\n",
    "def logisticRegressionFun(X_train_scaling,X_test_scaling,y_train,y_test):\n",
    "    model_logisticRegression=LogisticRegression()\n",
    "    model_logisticRegression.fit(X_train_scaling,y_train)\n",
    "\n",
    "    y_test_pred=model_logisticRegression.predict(X_test_scaling)\n",
    "\n",
    "    accuracy_logisticRegression=accuracy_score(y_test,y_test_pred)\n",
    "    return accuracy_logisticRegression,model_logisticRegression"
   ]
  },
  {
   "cell_type": "code",
   "execution_count": 214,
   "metadata": {},
   "outputs": [
    {
     "name": "stdout",
     "output_type": "stream",
     "text": [
      "standard_accuracy_logisticRegression: 0.9633401221995926\n",
      "minMax_accuracy_logisticRegression: 0.9633401221995926\n",
      "robust_accuracy_logisticRegression: 0.9633401221995926\n",
      "normalize_accuracy_logisticRegression: 0.9626612355736592\n"
     ]
    }
   ],
   "source": [
    "# 不同Feature scaling下LogisticRegression的结果\n",
    "\n",
    "X_train_ori,X_test_ori,y_train_ori,y_test_ori = train_test_split(X,y,test_size=0.3,random_state=0)\n",
    "X_train_ori.shape,y_train_ori.shape,X_test_ori.shape,y_test_ori.shape\n",
    "\n",
    "X_train_scaling,X_test_scaling=standardScalerFun(X_train_ori,X_test_ori)\n",
    "standard_accuracy_logisticRegression,standard_model_logisticRegression=logisticRegressionFun(X_train_scaling,X_test_scaling,y_train_ori,y_test_ori)\n",
    "model_name.append(\"standard_model_logisticRegression\")\n",
    "accuracy_val.append(standard_accuracy_logisticRegression)\n",
    "print(\"standard_accuracy_logisticRegression:\",standard_accuracy_logisticRegression)\n",
    "\n",
    "X_train_scaling,X_test_scaling=minMaxScalerFun(X_train_ori,X_test_ori)\n",
    "minMax_accuracy_logisticRegression,minMax_model_logisticRegression=logisticRegressionFun(X_train_scaling,X_test_scaling,y_train_ori,y_test_ori)\n",
    "model_name.append(\"minMax_model_logisticRegression\")\n",
    "accuracy_val.append(minMax_accuracy_logisticRegression)\n",
    "print(\"minMax_accuracy_logisticRegression:\",minMax_accuracy_logisticRegression)\n",
    "\n",
    "X_train_scaling,X_test_scaling=robustScalerFun(X_train_ori,X_test_ori)\n",
    "robust_accuracy_logisticRegression,robust_model_logisticRegression=logisticRegressionFun(X_train_scaling,X_test_scaling,y_train_ori,y_test_ori)\n",
    "model_name.append(\"robust_model_logisticRegression\")\n",
    "accuracy_val.append(robust_accuracy_logisticRegression)\n",
    "print(\"robust_accuracy_logisticRegression:\",minMax_accuracy_logisticRegression)\n",
    "\n",
    "X_train_scaling,X_test_scaling=normalizerFun(X_train_ori,X_test_ori)\n",
    "normalize_accuracy_logisticRegression,normalize_model_logisticRegression=logisticRegressionFun(X_train_scaling,X_test_scaling,y_train_ori,y_test_ori)\n",
    "model_name.append(\"normalize_model_logisticRegression\")\n",
    "accuracy_val.append(normalize_accuracy_logisticRegression)\n",
    "print(\"normalize_accuracy_logisticRegression:\",normalize_accuracy_logisticRegression)\n",
    "\n",
    "\n",
    "\n"
   ]
  },
  {
   "cell_type": "markdown",
   "metadata": {},
   "source": [
    "### KNeighborsClassifier Feature scaling"
   ]
  },
  {
   "cell_type": "code",
   "execution_count": 215,
   "metadata": {},
   "outputs": [],
   "source": [
    "from sklearn.neighbors import KNeighborsClassifier\n",
    "from sklearn.metrics import accuracy_score\n",
    "def KNeighborsClassifierFun(X_train_scaling,X_test_scaling,y_train,y_test):\n",
    "\n",
    "    \n",
    "    model_KNeighborsClassifier=KNeighborsClassifier()\n",
    "    model_KNeighborsClassifier.fit(X_train_scaling,y_train)\n",
    "\n",
    "    Y_pred=model_KNeighborsClassifier.predict(X_test_scaling)\n",
    "    accuracy_KNeighborsClassifier=accuracy_score(y_test,Y_pred)\n",
    "    return accuracy_KNeighborsClassifier,model_KNeighborsClassifier"
   ]
  },
  {
   "cell_type": "code",
   "execution_count": 216,
   "metadata": {},
   "outputs": [
    {
     "name": "stdout",
     "output_type": "stream",
     "text": [
      "standard_accuracy_KNeighborsClassifier: 0.9633401221995926\n",
      "minMax_accuracy_KNeighborsClassifier: 0.9558723693143245\n",
      "robust_accuracy_KNeighborsClassifier: 0.9613034623217923\n",
      "normalize_accuracy_KNeighborsClassifier: 0.9572301425661914\n"
     ]
    }
   ],
   "source": [
    "# 不同Feature scaling下LogisticRegression的结果\n",
    "\n",
    "\n",
    "\n",
    "X_train_ori,X_test_ori,y_train_ori,y_test_ori = train_test_split(X,y,test_size=0.3,random_state=0)\n",
    "X_train_ori.shape,y_train_ori.shape,X_test_ori.shape,y_test_ori.shape\n",
    "\n",
    "X_train_scaling,X_test_scaling=standardScalerFun(X_train_ori,X_test_ori)\n",
    "standard_accuracy_KNeighborsClassifierFun,standard_model_KNeighborsClassifierFun=KNeighborsClassifierFun(X_train_scaling,X_test_scaling,y_train_ori,y_test_ori)\n",
    "model_name.append(\"standard_model_KNeighborsClassifier\")\n",
    "accuracy_val.append(standard_accuracy_KNeighborsClassifierFun)\n",
    "print(\"standard_accuracy_KNeighborsClassifier:\",standard_accuracy_logisticRegression)\n",
    "\n",
    "X_train_scaling,X_test_scaling=minMaxScalerFun(X_train_ori,X_test_ori)\n",
    "minMax_accuracy_KNeighborsClassifier,minMax_model_KNeighborsClassifier=KNeighborsClassifierFun(X_train_scaling,X_test_scaling,y_train_ori,y_test_ori)\n",
    "model_name.append(\"minMax_model_KNeighborsClassifier\")\n",
    "accuracy_val.append(minMax_accuracy_KNeighborsClassifier)\n",
    "print(\"minMax_accuracy_KNeighborsClassifier:\",minMax_accuracy_KNeighborsClassifier)\n",
    "\n",
    "X_train_scaling,X_test_scaling=robustScalerFun(X_train_ori,X_test_ori)\n",
    "robust_accuracy_KNeighborsClassifier,robust_model_KNeighborsClassifier=KNeighborsClassifierFun(X_train_scaling,X_test_scaling,y_train_ori,y_test_ori)\n",
    "model_name.append(\"robust_model_KNeighborsClassifier\")\n",
    "accuracy_val.append(robust_accuracy_KNeighborsClassifier)\n",
    "print(\"robust_accuracy_KNeighborsClassifier:\",robust_accuracy_KNeighborsClassifier)\n",
    "\n",
    "X_train_scaling,X_test_scaling=normalizerFun(X_train_ori,X_test_ori)\n",
    "normalize_accuracy_KNeighborsClassifier,normalize_model_KNeighborsClassifier=KNeighborsClassifierFun(X_train_scaling,X_test_scaling,y_train_ori,y_test_ori)\n",
    "model_name.append(\"normalize_model_KNeighborsClassifier\")\n",
    "accuracy_val.append(normalize_accuracy_KNeighborsClassifier)\n",
    "print(\"normalize_accuracy_KNeighborsClassifier:\",normalize_accuracy_KNeighborsClassifier)\n",
    "\n",
    "    "
   ]
  },
  {
   "cell_type": "markdown",
   "metadata": {},
   "source": [
    "### MLPClassifier Feature scaling"
   ]
  },
  {
   "cell_type": "code",
   "execution_count": 217,
   "metadata": {},
   "outputs": [],
   "source": [
    "from sklearn.neural_network import MLPClassifier\n",
    "from sklearn.metrics import accuracy_score\n",
    "def MLPClassifierFun(X_train_scaling,X_test_scaling,y_train,y_test):\n",
    "    model_MLPClassifier=MLPClassifier(random_state=0,max_iter=1200)\n",
    "    model_MLPClassifier.fit(X_train_scaling,y_train)\n",
    "\n",
    "    Y_pred=model_MLPClassifier.predict(X_test_scaling)\n",
    "    accuracy_MLPClassifier=accuracy_score(y_test,Y_pred)\n",
    "    return accuracy_MLPClassifier,model_MLPClassifier"
   ]
  },
  {
   "cell_type": "code",
   "execution_count": 218,
   "metadata": {},
   "outputs": [
    {
     "name": "stdout",
     "output_type": "stream",
     "text": [
      "standard_accuracy_MLPClassifier: 0.9517990495587237\n",
      "minMax_accuracy_MLPClassifier: 0.9640190088255262\n",
      "robust_accuracy_MLPClassifier: 0.9599456890699253\n",
      "normalize_accuracy_MLPClassifier: 0.9626612355736592\n"
     ]
    }
   ],
   "source": [
    "# 不同Feature scaling下LogisticRegression的结果\n",
    "X_train_ori,X_test_ori,y_train_ori,y_test_ori = train_test_split(X,y,test_size=0.3,random_state=0)\n",
    "X_train_ori.shape,y_train_ori.shape,X_test_ori.shape,y_test_ori.shape\n",
    "\n",
    "X_train_scaling,X_test_scaling=standardScalerFun(X_train_ori,X_test_ori)\n",
    "standard_accuracy_logisticRegression,standard_model_logisticRegression=MLPClassifierFun(X_train_scaling,X_test_scaling,y_train_ori,y_test_ori)\n",
    "model_name.append(\"standard_model_MLPClassifier\")\n",
    "accuracy_val.append(standard_accuracy_logisticRegression)\n",
    "print(\"standard_accuracy_MLPClassifier:\",standard_accuracy_logisticRegression)\n",
    "\n",
    "X_train_scaling,X_test_scaling=minMaxScalerFun(X_train_ori,X_test_ori)\n",
    "minMax_accuracy_MLPClassifier,minMax_model_MLPClassifier=MLPClassifierFun(X_train_scaling,X_test_scaling,y_train_ori,y_test_ori)\n",
    "model_name.append(\"minMax_model_MLPClassifier\")\n",
    "accuracy_val.append(minMax_accuracy_MLPClassifier)\n",
    "print(\"minMax_accuracy_MLPClassifier:\",minMax_accuracy_MLPClassifier)\n",
    "\n",
    "X_train_scaling,X_test_scaling=robustScalerFun(X_train_ori,X_test_ori)\n",
    "robust_accuracy_MLPClassifier,robust_model_MLPClassifier=MLPClassifierFun(X_train_scaling,X_test_scaling,y_train_ori,y_test_ori)\n",
    "model_name.append(\"robust_model_MLPClassifier\")\n",
    "accuracy_val.append(robust_accuracy_MLPClassifier)\n",
    "print(\"robust_accuracy_MLPClassifier:\",robust_accuracy_MLPClassifier)\n",
    "\n",
    "X_train_scaling,X_test_scaling=normalizerFun(X_train_ori,X_test_ori)\n",
    "normalize_accuracy_MLPClassifier,normalize_model_MLPClassifier=MLPClassifierFun(X_train_scaling,X_test_scaling,y_train_ori,y_test_ori)\n",
    "model_name.append(\"normalize_model_MLPClassifier\")\n",
    "accuracy_val.append(normalize_accuracy_MLPClassifier)\n",
    "print(\"normalize_accuracy_MLPClassifier:\",normalize_accuracy_MLPClassifier)"
   ]
  },
  {
   "cell_type": "markdown",
   "metadata": {},
   "source": [
    "### GridSearch"
   ]
  },
  {
   "cell_type": "code",
   "execution_count": 219,
   "metadata": {},
   "outputs": [
    {
     "data": {
      "text/plain": [
       "0.9556008146639511"
      ]
     },
     "execution_count": 219,
     "metadata": {},
     "output_type": "execute_result"
    }
   ],
   "source": [
    "from sklearn.neighbors import KNeighborsClassifier\n",
    "from sklearn.metrics import accuracy_score\n",
    "\n",
    "model_KNeighborsClassifier=KNeighborsClassifier()\n",
    "model_KNeighborsClassifier.fit(X_train,y_train)\n",
    "\n",
    "y_test_pred=model_KNeighborsClassifier.predict(X_test)\n",
    "y_train_pred=model_logisticRegression.predict(X_train)\n",
    "\n",
    "accuracy_KNeighborsClassifier=accuracy_score(y_test,y_test_pred)\n",
    "accuracy_KNeighborsClassifier\n",
    "\n",
    "\n"
   ]
  },
  {
   "cell_type": "code",
   "execution_count": 220,
   "metadata": {},
   "outputs": [
    {
     "name": "stdout",
     "output_type": "stream",
     "text": [
      "{'n_neighbors': [1, 2, 3, 4, 5, 6, 7, 8, 9, 10, 11, 12, 13, 14, 15, 16, 17, 18, 19, 20], 'weights': ['uniform', 'distance']}\n"
     ]
    }
   ],
   "source": [
    "k_list=list(range(1,21))\n",
    "weight_list=[\"uniform\",\"distance\"]\n",
    "para_dict=dict(n_neighbors=k_list,weights=weight_list)\n",
    "print(para_dict)\n",
    "\n"
   ]
  },
  {
   "cell_type": "code",
   "execution_count": 221,
   "metadata": {},
   "outputs": [
    {
     "name": "stdout",
     "output_type": "stream",
     "text": [
      "[0.9490835  0.95315682 0.95213849 0.95213849 0.9520897 ]\n"
     ]
    }
   ],
   "source": [
    "from sklearn.model_selection import GridSearchCV\n",
    "grid1=GridSearchCV(model_KNeighborsClassifier,para_dict,cv=5,scoring=\"accuracy\",return_train_score=False)\n",
    "# grid1=GridSearchCV(minMax_accuracy_MLPClassifier,para_dict,cv=5,scoring=\"accuracy\",return_train_score=False)\n",
    "scores = cross_val_score(model_KNeighborsClassifier, X, y, cv=5, scoring='accuracy')\n",
    "grid1.fit(X,y)\n",
    "print(scores)\n",
    "\n"
   ]
  },
  {
   "cell_type": "code",
   "execution_count": 222,
   "metadata": {},
   "outputs": [
    {
     "data": {
      "text/html": [
       "<div>\n",
       "<style scoped>\n",
       "    .dataframe tbody tr th:only-of-type {\n",
       "        vertical-align: middle;\n",
       "    }\n",
       "\n",
       "    .dataframe tbody tr th {\n",
       "        vertical-align: top;\n",
       "    }\n",
       "\n",
       "    .dataframe thead th {\n",
       "        text-align: right;\n",
       "    }\n",
       "</style>\n",
       "<table border=\"1\" class=\"dataframe\">\n",
       "  <thead>\n",
       "    <tr style=\"text-align: right;\">\n",
       "      <th></th>\n",
       "      <th>mean_test_score</th>\n",
       "      <th>params</th>\n",
       "    </tr>\n",
       "  </thead>\n",
       "  <tbody>\n",
       "    <tr>\n",
       "      <th>0</th>\n",
       "      <td>0.927480</td>\n",
       "      <td>{'n_neighbors': 1, 'weights': 'uniform'}</td>\n",
       "    </tr>\n",
       "    <tr>\n",
       "      <th>1</th>\n",
       "      <td>0.927480</td>\n",
       "      <td>{'n_neighbors': 1, 'weights': 'distance'}</td>\n",
       "    </tr>\n",
       "    <tr>\n",
       "      <th>2</th>\n",
       "      <td>0.953962</td>\n",
       "      <td>{'n_neighbors': 2, 'weights': 'uniform'}</td>\n",
       "    </tr>\n",
       "    <tr>\n",
       "      <th>3</th>\n",
       "      <td>0.927480</td>\n",
       "      <td>{'n_neighbors': 2, 'weights': 'distance'}</td>\n",
       "    </tr>\n",
       "    <tr>\n",
       "      <th>4</th>\n",
       "      <td>0.946833</td>\n",
       "      <td>{'n_neighbors': 3, 'weights': 'uniform'}</td>\n",
       "    </tr>\n",
       "    <tr>\n",
       "      <th>5</th>\n",
       "      <td>0.945610</td>\n",
       "      <td>{'n_neighbors': 3, 'weights': 'distance'}</td>\n",
       "    </tr>\n",
       "    <tr>\n",
       "      <th>6</th>\n",
       "      <td>0.955185</td>\n",
       "      <td>{'n_neighbors': 4, 'weights': 'uniform'}</td>\n",
       "    </tr>\n",
       "    <tr>\n",
       "      <th>7</th>\n",
       "      <td>0.945407</td>\n",
       "      <td>{'n_neighbors': 4, 'weights': 'distance'}</td>\n",
       "    </tr>\n",
       "    <tr>\n",
       "      <th>8</th>\n",
       "      <td>0.951721</td>\n",
       "      <td>{'n_neighbors': 5, 'weights': 'uniform'}</td>\n",
       "    </tr>\n",
       "    <tr>\n",
       "      <th>9</th>\n",
       "      <td>0.951314</td>\n",
       "      <td>{'n_neighbors': 5, 'weights': 'distance'}</td>\n",
       "    </tr>\n",
       "    <tr>\n",
       "      <th>10</th>\n",
       "      <td>0.955999</td>\n",
       "      <td>{'n_neighbors': 6, 'weights': 'uniform'}</td>\n",
       "    </tr>\n",
       "    <tr>\n",
       "      <th>11</th>\n",
       "      <td>0.951722</td>\n",
       "      <td>{'n_neighbors': 6, 'weights': 'distance'}</td>\n",
       "    </tr>\n",
       "    <tr>\n",
       "      <th>12</th>\n",
       "      <td>0.954777</td>\n",
       "      <td>{'n_neighbors': 7, 'weights': 'uniform'}</td>\n",
       "    </tr>\n",
       "    <tr>\n",
       "      <th>13</th>\n",
       "      <td>0.954981</td>\n",
       "      <td>{'n_neighbors': 7, 'weights': 'distance'}</td>\n",
       "    </tr>\n",
       "    <tr>\n",
       "      <th>14</th>\n",
       "      <td>0.956407</td>\n",
       "      <td>{'n_neighbors': 8, 'weights': 'uniform'}</td>\n",
       "    </tr>\n",
       "    <tr>\n",
       "      <th>15</th>\n",
       "      <td>0.954370</td>\n",
       "      <td>{'n_neighbors': 8, 'weights': 'distance'}</td>\n",
       "    </tr>\n",
       "    <tr>\n",
       "      <th>16</th>\n",
       "      <td>0.956203</td>\n",
       "      <td>{'n_neighbors': 9, 'weights': 'uniform'}</td>\n",
       "    </tr>\n",
       "    <tr>\n",
       "      <th>17</th>\n",
       "      <td>0.956407</td>\n",
       "      <td>{'n_neighbors': 9, 'weights': 'distance'}</td>\n",
       "    </tr>\n",
       "    <tr>\n",
       "      <th>18</th>\n",
       "      <td>0.956814</td>\n",
       "      <td>{'n_neighbors': 10, 'weights': 'uniform'}</td>\n",
       "    </tr>\n",
       "    <tr>\n",
       "      <th>19</th>\n",
       "      <td>0.956407</td>\n",
       "      <td>{'n_neighbors': 10, 'weights': 'distance'}</td>\n",
       "    </tr>\n",
       "    <tr>\n",
       "      <th>20</th>\n",
       "      <td>0.956814</td>\n",
       "      <td>{'n_neighbors': 11, 'weights': 'uniform'}</td>\n",
       "    </tr>\n",
       "    <tr>\n",
       "      <th>21</th>\n",
       "      <td>0.957222</td>\n",
       "      <td>{'n_neighbors': 11, 'weights': 'distance'}</td>\n",
       "    </tr>\n",
       "    <tr>\n",
       "      <th>22</th>\n",
       "      <td>0.957222</td>\n",
       "      <td>{'n_neighbors': 12, 'weights': 'uniform'}</td>\n",
       "    </tr>\n",
       "    <tr>\n",
       "      <th>23</th>\n",
       "      <td>0.957222</td>\n",
       "      <td>{'n_neighbors': 12, 'weights': 'distance'}</td>\n",
       "    </tr>\n",
       "    <tr>\n",
       "      <th>24</th>\n",
       "      <td>0.957425</td>\n",
       "      <td>{'n_neighbors': 13, 'weights': 'uniform'}</td>\n",
       "    </tr>\n",
       "    <tr>\n",
       "      <th>25</th>\n",
       "      <td>0.957425</td>\n",
       "      <td>{'n_neighbors': 13, 'weights': 'distance'}</td>\n",
       "    </tr>\n",
       "    <tr>\n",
       "      <th>26</th>\n",
       "      <td>0.957425</td>\n",
       "      <td>{'n_neighbors': 14, 'weights': 'uniform'}</td>\n",
       "    </tr>\n",
       "    <tr>\n",
       "      <th>27</th>\n",
       "      <td>0.957222</td>\n",
       "      <td>{'n_neighbors': 14, 'weights': 'distance'}</td>\n",
       "    </tr>\n",
       "    <tr>\n",
       "      <th>28</th>\n",
       "      <td>0.957018</td>\n",
       "      <td>{'n_neighbors': 15, 'weights': 'uniform'}</td>\n",
       "    </tr>\n",
       "    <tr>\n",
       "      <th>29</th>\n",
       "      <td>0.957018</td>\n",
       "      <td>{'n_neighbors': 15, 'weights': 'distance'}</td>\n",
       "    </tr>\n",
       "    <tr>\n",
       "      <th>30</th>\n",
       "      <td>0.957222</td>\n",
       "      <td>{'n_neighbors': 16, 'weights': 'uniform'}</td>\n",
       "    </tr>\n",
       "    <tr>\n",
       "      <th>31</th>\n",
       "      <td>0.957222</td>\n",
       "      <td>{'n_neighbors': 16, 'weights': 'distance'}</td>\n",
       "    </tr>\n",
       "    <tr>\n",
       "      <th>32</th>\n",
       "      <td>0.956814</td>\n",
       "      <td>{'n_neighbors': 17, 'weights': 'uniform'}</td>\n",
       "    </tr>\n",
       "    <tr>\n",
       "      <th>33</th>\n",
       "      <td>0.957222</td>\n",
       "      <td>{'n_neighbors': 17, 'weights': 'distance'}</td>\n",
       "    </tr>\n",
       "    <tr>\n",
       "      <th>34</th>\n",
       "      <td>0.957222</td>\n",
       "      <td>{'n_neighbors': 18, 'weights': 'uniform'}</td>\n",
       "    </tr>\n",
       "    <tr>\n",
       "      <th>35</th>\n",
       "      <td>0.957222</td>\n",
       "      <td>{'n_neighbors': 18, 'weights': 'distance'}</td>\n",
       "    </tr>\n",
       "    <tr>\n",
       "      <th>36</th>\n",
       "      <td>0.957018</td>\n",
       "      <td>{'n_neighbors': 19, 'weights': 'uniform'}</td>\n",
       "    </tr>\n",
       "    <tr>\n",
       "      <th>37</th>\n",
       "      <td>0.957222</td>\n",
       "      <td>{'n_neighbors': 19, 'weights': 'distance'}</td>\n",
       "    </tr>\n",
       "    <tr>\n",
       "      <th>38</th>\n",
       "      <td>0.957425</td>\n",
       "      <td>{'n_neighbors': 20, 'weights': 'uniform'}</td>\n",
       "    </tr>\n",
       "    <tr>\n",
       "      <th>39</th>\n",
       "      <td>0.957425</td>\n",
       "      <td>{'n_neighbors': 20, 'weights': 'distance'}</td>\n",
       "    </tr>\n",
       "  </tbody>\n",
       "</table>\n",
       "</div>"
      ],
      "text/plain": [
       "    mean_test_score                                      params\n",
       "0          0.927480    {'n_neighbors': 1, 'weights': 'uniform'}\n",
       "1          0.927480   {'n_neighbors': 1, 'weights': 'distance'}\n",
       "2          0.953962    {'n_neighbors': 2, 'weights': 'uniform'}\n",
       "3          0.927480   {'n_neighbors': 2, 'weights': 'distance'}\n",
       "4          0.946833    {'n_neighbors': 3, 'weights': 'uniform'}\n",
       "5          0.945610   {'n_neighbors': 3, 'weights': 'distance'}\n",
       "6          0.955185    {'n_neighbors': 4, 'weights': 'uniform'}\n",
       "7          0.945407   {'n_neighbors': 4, 'weights': 'distance'}\n",
       "8          0.951721    {'n_neighbors': 5, 'weights': 'uniform'}\n",
       "9          0.951314   {'n_neighbors': 5, 'weights': 'distance'}\n",
       "10         0.955999    {'n_neighbors': 6, 'weights': 'uniform'}\n",
       "11         0.951722   {'n_neighbors': 6, 'weights': 'distance'}\n",
       "12         0.954777    {'n_neighbors': 7, 'weights': 'uniform'}\n",
       "13         0.954981   {'n_neighbors': 7, 'weights': 'distance'}\n",
       "14         0.956407    {'n_neighbors': 8, 'weights': 'uniform'}\n",
       "15         0.954370   {'n_neighbors': 8, 'weights': 'distance'}\n",
       "16         0.956203    {'n_neighbors': 9, 'weights': 'uniform'}\n",
       "17         0.956407   {'n_neighbors': 9, 'weights': 'distance'}\n",
       "18         0.956814   {'n_neighbors': 10, 'weights': 'uniform'}\n",
       "19         0.956407  {'n_neighbors': 10, 'weights': 'distance'}\n",
       "20         0.956814   {'n_neighbors': 11, 'weights': 'uniform'}\n",
       "21         0.957222  {'n_neighbors': 11, 'weights': 'distance'}\n",
       "22         0.957222   {'n_neighbors': 12, 'weights': 'uniform'}\n",
       "23         0.957222  {'n_neighbors': 12, 'weights': 'distance'}\n",
       "24         0.957425   {'n_neighbors': 13, 'weights': 'uniform'}\n",
       "25         0.957425  {'n_neighbors': 13, 'weights': 'distance'}\n",
       "26         0.957425   {'n_neighbors': 14, 'weights': 'uniform'}\n",
       "27         0.957222  {'n_neighbors': 14, 'weights': 'distance'}\n",
       "28         0.957018   {'n_neighbors': 15, 'weights': 'uniform'}\n",
       "29         0.957018  {'n_neighbors': 15, 'weights': 'distance'}\n",
       "30         0.957222   {'n_neighbors': 16, 'weights': 'uniform'}\n",
       "31         0.957222  {'n_neighbors': 16, 'weights': 'distance'}\n",
       "32         0.956814   {'n_neighbors': 17, 'weights': 'uniform'}\n",
       "33         0.957222  {'n_neighbors': 17, 'weights': 'distance'}\n",
       "34         0.957222   {'n_neighbors': 18, 'weights': 'uniform'}\n",
       "35         0.957222  {'n_neighbors': 18, 'weights': 'distance'}\n",
       "36         0.957018   {'n_neighbors': 19, 'weights': 'uniform'}\n",
       "37         0.957222  {'n_neighbors': 19, 'weights': 'distance'}\n",
       "38         0.957425   {'n_neighbors': 20, 'weights': 'uniform'}\n",
       "39         0.957425  {'n_neighbors': 20, 'weights': 'distance'}"
      ]
     },
     "execution_count": 222,
     "metadata": {},
     "output_type": "execute_result"
    }
   ],
   "source": [
    "pd.DataFrame(grid1.cv_results_)[[\"mean_test_score\",\"params\"]]\n"
   ]
  },
  {
   "cell_type": "code",
   "execution_count": 223,
   "metadata": {},
   "outputs": [
    {
     "name": "stdout",
     "output_type": "stream",
     "text": [
      "the best Grid Search model's accuracy:0.957\n",
      "used values: {'n_neighbors': 13, 'weights': 'uniform'}\n"
     ]
    }
   ],
   "source": [
    "print(\"the best Grid Search model's accuracy:{:.3f}\".format(grid1.best_score_))\n",
    "print(\"used values:\",grid1.best_params_)"
   ]
  },
  {
   "cell_type": "markdown",
   "metadata": {},
   "source": [
    "### Random  Search"
   ]
  },
  {
   "cell_type": "code",
   "execution_count": 224,
   "metadata": {},
   "outputs": [
    {
     "data": {
      "text/plain": [
       "RandomizedSearchCV(cv=5, estimator=KNeighborsClassifier(),\n",
       "                   param_distributions={'n_neighbors': [1, 2, 3, 4, 5, 6, 7, 8,\n",
       "                                                        9, 10, 11, 12, 13, 14,\n",
       "                                                        15, 16, 17, 18, 19,\n",
       "                                                        20],\n",
       "                                        'weights': ['uniform', 'distance']},\n",
       "                   random_state=10, scoring='accuracy')"
      ]
     },
     "execution_count": 224,
     "metadata": {},
     "output_type": "execute_result"
    }
   ],
   "source": [
    "from sklearn.model_selection import RandomizedSearchCV\n",
    "RandomGrid1=RandomizedSearchCV(model_KNeighborsClassifier,para_dict,cv=5,scoring=\"accuracy\",return_train_score=False,\n",
    "                    n_iter=10,random_state=10)\n",
    "\n",
    "RandomGrid1.fit(X,y)\n",
    "\n",
    "\n"
   ]
  },
  {
   "cell_type": "code",
   "execution_count": 225,
   "metadata": {},
   "outputs": [
    {
     "data": {
      "text/html": [
       "<div>\n",
       "<style scoped>\n",
       "    .dataframe tbody tr th:only-of-type {\n",
       "        vertical-align: middle;\n",
       "    }\n",
       "\n",
       "    .dataframe tbody tr th {\n",
       "        vertical-align: top;\n",
       "    }\n",
       "\n",
       "    .dataframe thead th {\n",
       "        text-align: right;\n",
       "    }\n",
       "</style>\n",
       "<table border=\"1\" class=\"dataframe\">\n",
       "  <thead>\n",
       "    <tr style=\"text-align: right;\">\n",
       "      <th></th>\n",
       "      <th>mean_test_score</th>\n",
       "      <th>params</th>\n",
       "    </tr>\n",
       "  </thead>\n",
       "  <tbody>\n",
       "    <tr>\n",
       "      <th>0</th>\n",
       "      <td>0.953962</td>\n",
       "      <td>{'weights': 'uniform', 'n_neighbors': 2}</td>\n",
       "    </tr>\n",
       "    <tr>\n",
       "      <th>1</th>\n",
       "      <td>0.957222</td>\n",
       "      <td>{'weights': 'distance', 'n_neighbors': 14}</td>\n",
       "    </tr>\n",
       "    <tr>\n",
       "      <th>2</th>\n",
       "      <td>0.957222</td>\n",
       "      <td>{'weights': 'distance', 'n_neighbors': 18}</td>\n",
       "    </tr>\n",
       "    <tr>\n",
       "      <th>3</th>\n",
       "      <td>0.957222</td>\n",
       "      <td>{'weights': 'uniform', 'n_neighbors': 16}</td>\n",
       "    </tr>\n",
       "    <tr>\n",
       "      <th>4</th>\n",
       "      <td>0.956407</td>\n",
       "      <td>{'weights': 'uniform', 'n_neighbors': 8}</td>\n",
       "    </tr>\n",
       "    <tr>\n",
       "      <th>5</th>\n",
       "      <td>0.954981</td>\n",
       "      <td>{'weights': 'distance', 'n_neighbors': 7}</td>\n",
       "    </tr>\n",
       "    <tr>\n",
       "      <th>6</th>\n",
       "      <td>0.945407</td>\n",
       "      <td>{'weights': 'distance', 'n_neighbors': 4}</td>\n",
       "    </tr>\n",
       "    <tr>\n",
       "      <th>7</th>\n",
       "      <td>0.957425</td>\n",
       "      <td>{'weights': 'uniform', 'n_neighbors': 13}</td>\n",
       "    </tr>\n",
       "    <tr>\n",
       "      <th>8</th>\n",
       "      <td>0.957222</td>\n",
       "      <td>{'weights': 'distance', 'n_neighbors': 16}</td>\n",
       "    </tr>\n",
       "    <tr>\n",
       "      <th>9</th>\n",
       "      <td>0.954777</td>\n",
       "      <td>{'weights': 'uniform', 'n_neighbors': 7}</td>\n",
       "    </tr>\n",
       "  </tbody>\n",
       "</table>\n",
       "</div>"
      ],
      "text/plain": [
       "   mean_test_score                                      params\n",
       "0         0.953962    {'weights': 'uniform', 'n_neighbors': 2}\n",
       "1         0.957222  {'weights': 'distance', 'n_neighbors': 14}\n",
       "2         0.957222  {'weights': 'distance', 'n_neighbors': 18}\n",
       "3         0.957222   {'weights': 'uniform', 'n_neighbors': 16}\n",
       "4         0.956407    {'weights': 'uniform', 'n_neighbors': 8}\n",
       "5         0.954981   {'weights': 'distance', 'n_neighbors': 7}\n",
       "6         0.945407   {'weights': 'distance', 'n_neighbors': 4}\n",
       "7         0.957425   {'weights': 'uniform', 'n_neighbors': 13}\n",
       "8         0.957222  {'weights': 'distance', 'n_neighbors': 16}\n",
       "9         0.954777    {'weights': 'uniform', 'n_neighbors': 7}"
      ]
     },
     "execution_count": 225,
     "metadata": {},
     "output_type": "execute_result"
    }
   ],
   "source": [
    "pd.DataFrame(RandomGrid1.cv_results_)[[\"mean_test_score\",\"params\"]]\n"
   ]
  },
  {
   "cell_type": "code",
   "execution_count": 226,
   "metadata": {},
   "outputs": [
    {
     "name": "stdout",
     "output_type": "stream",
     "text": [
      "the best randomized search model's accuracy:0.957\n",
      "used values: {'weights': 'uniform', 'n_neighbors': 13}\n"
     ]
    }
   ],
   "source": [
    "print(\"the best randomized search model's accuracy:{:.3f}\".format(RandomGrid1.best_score_))\n",
    "print(\"used values:\",RandomGrid1.best_params_)\n"
   ]
  },
  {
   "cell_type": "markdown",
   "metadata": {},
   "source": [
    "### RandomForestClassifier"
   ]
  },
  {
   "cell_type": "code",
   "execution_count": 227,
   "metadata": {},
   "outputs": [
    {
     "name": "stdout",
     "output_type": "stream",
     "text": [
      "0.959674134419552\n"
     ]
    }
   ],
   "source": [
    "#code resource: https://www.kaggle.com/sahikabetul/stroke-prediction-eda-benchmarking-ml-models#Random-Forest-Classifier\n",
    "from sklearn.ensemble import RandomForestClassifier\n",
    "model_RandomForestClassifier = RandomForestClassifier()\n",
    "parameters = {'n_estimators':[10, 20, 50, 100], 'max_depth':[2, 4, 6]}\n",
    "forest = GridSearchCV(model_RandomForestClassifier, parameters)\n",
    "\n",
    "#training via RandomForest classficiation model\n",
    "forest.fit(X_train, y_train)\n",
    "\n",
    "#make prediction using the test set\n",
    "y_test_pred= forest.predict(X_test)\n",
    "\n",
    "\n",
    "accuracy_RandomForestClassifier=accuracy_score(y_test,y_test_pred)\n",
    "print(accuracy_RandomForestClassifier)\n",
    "\n",
    "model_name.append(\"model_RandomForestClassifier\")\n",
    "accuracy_val.append(accuracy_RandomForestClassifier)\n",
    "\n"
   ]
  },
  {
   "cell_type": "code",
   "execution_count": 228,
   "metadata": {},
   "outputs": [
    {
     "data": {
      "text/plain": [
       "<AxesSubplot:>"
      ]
     },
     "execution_count": 228,
     "metadata": {},
     "output_type": "execute_result"
    },
    {
     "data": {
      "image/png": "[encoded data removed]",
      "text/plain": [
       "<Figure size 432x288 with 2 Axes>"
      ]
     },
     "metadata": {
      "needs_background": "light"
     },
     "output_type": "display_data"
    }
   ],
   "source": [
    "# RandomForestClassifier\n",
    "from sklearn.metrics import confusion_matrix\n",
    "confusion_matrix_res=confusion_matrix(y_test,y_test_pred)\n",
    "sns.heatmap(confusion_matrix_res,annot=True,cmap=\"Blues\")"
   ]
  },
  {
   "cell_type": "code",
   "execution_count": 229,
   "metadata": {},
   "outputs": [
    {
     "name": "stdout",
     "output_type": "stream",
     "text": [
      "accuracy_RandomForestClassifier 0.959674134419552\n",
      "              precision    recall  f1-score   support\n",
      "\n",
      "    Rejected       0.96      1.00      0.98      2356\n",
      "    Accepted       0.00      0.00      0.00        99\n",
      "\n",
      "    accuracy                           0.96      2455\n",
      "   macro avg       0.48      0.50      0.49      2455\n",
      "weighted avg       0.92      0.96      0.94      2455\n",
      "\n",
      "MSE： 0.04032586558044807\n",
      "MSE(Streat calculate)： 0.04032586558044807\n",
      "RMSE： 0.20081301148194572\n",
      "r2: -0.04202037351443111\n"
     ]
    },
    {
     "name": "stderr",
     "output_type": "stream",
     "text": [
      "/opt/anaconda3/lib/python3.8/site-packages/sklearn/metrics/_classification.py:1221: UndefinedMetricWarning: Precision and F-score are ill-defined and being set to 0.0 in labels with no predicted samples. Use `zero_division` parameter to control this behavior.\n",
      "  _warn_prf(average, modifier, msg_start, len(result))\n"
     ]
    }
   ],
   "source": [
    "from sklearn.metrics import classification_report\n",
    "print(\"accuracy_RandomForestClassifier\",accuracy_RandomForestClassifier)\n",
    "target_name=[\"Rejected\",\"Accepted\"]\n",
    "report=classification_report(y_test,y_test_pred,target_names=target_name)\n",
    "print(report)\n",
    "\n",
    "from sklearn.metrics import mean_squared_error,r2_score\n",
    "print('MSE：',mean_squared_error(y_test,y_test_pred))\n",
    "print('MSE(Streat calculate)：',np.mean((y_test-y_test_pred)**2))\n",
    "print('RMSE：',np.sqrt(mean_squared_error(y_test,y_test_pred)))\n",
    "print(\"r2:\",r2_score(y_test,y_test_pred))"
   ]
  },
  {
   "cell_type": "markdown",
   "metadata": {},
   "source": [
    "### Summary"
   ]
  },
  {
   "cell_type": "code",
   "execution_count": 230,
   "metadata": {},
   "outputs": [
    {
     "name": "stdout",
     "output_type": "stream",
     "text": [
      "0 standard_model_logisticRegression : 0.9633401221995926\n",
      "1 minMax_model_logisticRegression : 0.9633401221995926\n",
      "2 robust_model_logisticRegression : 0.9633401221995926\n",
      "3 normalize_model_logisticRegression : 0.9626612355736592\n",
      "4 standard_model_KNeighborsClassifier : 0.9585879158180584\n",
      "5 minMax_model_KNeighborsClassifier : 0.9558723693143245\n",
      "6 robust_model_KNeighborsClassifier : 0.9613034623217923\n",
      "7 normalize_model_KNeighborsClassifier : 0.9572301425661914\n",
      "8 standard_model_MLPClassifier : 0.9517990495587237\n",
      "9 minMax_model_MLPClassifier : 0.9640190088255262\n",
      "10 robust_model_MLPClassifier : 0.9599456890699253\n",
      "11 normalize_model_MLPClassifier : 0.9626612355736592\n",
      "12 model_RandomForestClassifier : 0.959674134419552\n"
     ]
    }
   ],
   "source": [
    "for i in range(len(accuracy_val)):\n",
    "    print(i,model_name[i],\":\",accuracy_val[i])\n"
   ]
  },
  {
   "cell_type": "code",
   "execution_count": 231,
   "metadata": {},
   "outputs": [
    {
     "data": {
      "image/png": "[encoded data removed]",
      "text/plain": [
       "<Figure size 432x288 with 1 Axes>"
      ]
     },
     "metadata": {
      "needs_background": "light"
     },
     "output_type": "display_data"
    }
   ],
   "source": [
    "plt.bar(range(len(accuracy_val)), accuracy_val)\n",
    "plt.xticks=model_name\n",
    "plt.show()"
   ]
  },
  {
   "cell_type": "code",
   "execution_count": 232,
   "metadata": {},
   "outputs": [
    {
     "data": {
      "text/plain": [
       "<BarContainer object of 13 artists>"
      ]
     },
     "execution_count": 232,
     "metadata": {},
     "output_type": "execute_result"
    },
    {
     "data": {
      "image/png": "[encoded data removed]",
      "text/plain": [
       "<Figure size 432x288 with 1 Axes>"
      ]
     },
     "metadata": {
      "needs_background": "light"
     },
     "output_type": "display_data"
    }
   ],
   "source": [
    "\n",
    "x=[]\n",
    "\n",
    "for i in accuracy_val:\n",
    "    x.append((i-0.9)**8)\n",
    "\n",
    "plt.bar(range(len(x)),x)\n"
   ]
  },
  {
   "cell_type": "code",
   "execution_count": 233,
   "metadata": {},
   "outputs": [
    {
     "name": "stdout",
     "output_type": "stream",
     "text": [
      "minMax_model_MLPClassifier is the heighest： 0.9640190088255262\n"
     ]
    }
   ],
   "source": [
    "index=np.argmax(accuracy_val)\n",
    "print(model_name[index],\"is the heighest：\",accuracy_val[index])"
   ]
  }
 ],
 "metadata": {
  "interpreter": {
   "hash": "9f62102f3c66301c2420c35c294bf5d9be510dc7c1a30df976a9132d890e54cd"
  },
  "kernelspec": {
   "display_name": "Python 3.8.5 64-bit ('base': conda)",
   "name": "python3"
  },
  "language_info": {
   "codemirror_mode": {
    "name": "ipython",
    "version": 3
   },
   "file_extension": ".py",
   "mimetype": "text/x-python",
   "name": "python",
   "nbconvert_exporter": "python",
   "pygments_lexer": "ipython3",
   "version": "3.8.5"
  },
  "orig_nbformat": 4
 },
 "nbformat": 4,
 "nbformat_minor": 2
}
